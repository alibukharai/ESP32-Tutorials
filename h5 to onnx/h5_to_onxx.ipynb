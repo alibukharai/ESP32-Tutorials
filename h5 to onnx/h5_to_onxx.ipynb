{
  "nbformat": 4,
  "nbformat_minor": 0,
  "metadata": {
    "colab": {
      "provenance": []
    },
    "kernelspec": {
      "name": "python3",
      "display_name": "Python 3"
    },
    "language_info": {
      "name": "python"
    }
  },
  "cells": [
    {
      "cell_type": "markdown",
      "source": [
        "**Installing Libraries**"
      ],
      "metadata": {
        "id": "_2_S59AcRjYo"
      }
    },
    {
      "cell_type": "code",
      "execution_count": 16,
      "metadata": {
        "id": "oV9VzajYONwf"
      },
      "outputs": [],
      "source": [
        "# pip install tensorflow"
      ]
    },
    {
      "cell_type": "code",
      "source": [
        "# pip install tf2onnx"
      ],
      "metadata": {
        "id": "k8ornmczQyfo"
      },
      "execution_count": 18,
      "outputs": []
    },
    {
      "cell_type": "markdown",
      "source": [
        "**Import Libraries** "
      ],
      "metadata": {
        "id": "eYK2KtSwP23w"
      }
    },
    {
      "cell_type": "code",
      "source": [
        "import tensorflow as tf\n",
        "import tf2onnx"
      ],
      "metadata": {
        "id": "zi9rTNUmQVFA"
      },
      "execution_count": 20,
      "outputs": []
    },
    {
      "cell_type": "markdown",
      "source": [
        "**Load .H5 Model**"
      ],
      "metadata": {
        "id": "arzfzMOHRtIE"
      }
    },
    {
      "cell_type": "code",
      "source": [
        "model = tf.keras.models.load_model(\"/content/Model.h5\")\n",
        "tf.saved_model.save(model, \"tmp_model\")"
      ],
      "metadata": {
        "colab": {
          "base_uri": "https://localhost:8080/"
        },
        "id": "zVIAneZDO7I0",
        "outputId": "36486ac7-baee-458e-ee38-c3e0abec3a90"
      },
      "execution_count": 21,
      "outputs": [
        {
          "output_type": "stream",
          "name": "stderr",
          "text": [
            "WARNING:absl:Found untraced functions such as _jit_compiled_convolution_op, _jit_compiled_convolution_op, _jit_compiled_convolution_op while saving (showing 3 of 3). These functions will not be directly callable after loading.\n"
          ]
        }
      ]
    },
    {
      "cell_type": "markdown",
      "source": [
        "**Conversion to ONXX**"
      ],
      "metadata": {
        "id": "fvhEuOm_SHEx"
      }
    },
    {
      "cell_type": "code",
      "source": [
        "!python -m tf2onnx.convert --saved-model tmp_model --output \"Onxx_Model.onnx\""
      ],
      "metadata": {
        "colab": {
          "base_uri": "https://localhost:8080/"
        },
        "id": "v2ZDTfBQRCLV",
        "outputId": "97a29c70-0dde-4dc6-f9d7-286018948f03"
      },
      "execution_count": 22,
      "outputs": [
        {
          "output_type": "stream",
          "name": "stdout",
          "text": [
            "/usr/lib/python3.7/runpy.py:125: RuntimeWarning: 'tf2onnx.convert' found in sys.modules after import of package 'tf2onnx', but prior to execution of 'tf2onnx.convert'; this may result in unpredictable behaviour\n",
            "  warn(RuntimeWarning(msg))\n",
            "2022-11-01 03:43:05,559 - WARNING - '--tag' not specified for saved_model. Using --tag serve\n",
            "2022-11-01 03:43:06,069 - INFO - Signatures found in model: [serving_default].\n",
            "2022-11-01 03:43:06,069 - WARNING - '--signature_def' not specified, using first signature: serving_default\n",
            "2022-11-01 03:43:06,069 - INFO - Output names: ['dense_1']\n",
            "WARNING:tensorflow:From /usr/local/lib/python3.7/dist-packages/tf2onnx/tf_loader.py:715: extract_sub_graph (from tensorflow.python.framework.graph_util_impl) is deprecated and will be removed in a future version.\n",
            "Instructions for updating:\n",
            "Use `tf.compat.v1.graph_util.extract_sub_graph`\n",
            "2022-11-01 03:43:06,544 - WARNING - From /usr/local/lib/python3.7/dist-packages/tf2onnx/tf_loader.py:715: extract_sub_graph (from tensorflow.python.framework.graph_util_impl) is deprecated and will be removed in a future version.\n",
            "Instructions for updating:\n",
            "Use `tf.compat.v1.graph_util.extract_sub_graph`\n",
            "2022-11-01 03:43:06,896 - INFO - Using tensorflow=2.9.2, onnx=1.9.0, tf2onnx=1.12.1/b6d590\n",
            "2022-11-01 03:43:06,896 - INFO - Using opset <onnx, 13>\n",
            "2022-11-01 03:43:08,011 - INFO - Computed 0 values for constant folding\n",
            "2022-11-01 03:43:08,688 - INFO - Optimizing ONNX model\n",
            "2022-11-01 03:43:08,794 - INFO - After optimization: Cast -1 (1->0), Const +1 (11->12), Identity -2 (2->0), Reshape +1 (1->2), Transpose -11 (12->1)\n",
            "2022-11-01 03:43:08,815 - INFO - \n",
            "2022-11-01 03:43:08,815 - INFO - Successfully converted TensorFlow model tmp_model to ONNX\n",
            "2022-11-01 03:43:08,815 - INFO - Model inputs: ['conv2d_input']\n",
            "2022-11-01 03:43:08,815 - INFO - Model outputs: ['dense_1']\n",
            "2022-11-01 03:43:08,815 - INFO - ONNX model is saved at Onxx_Model.onnx\n"
          ]
        }
      ]
    },
    {
      "cell_type": "markdown",
      "source": [
        "**Download**"
      ],
      "metadata": {
        "id": "0vHhFoKhSpNo"
      }
    },
    {
      "cell_type": "code",
      "source": [
        "from google.colab import files"
      ],
      "metadata": {
        "id": "Fe3kN2CESzJg"
      },
      "execution_count": 24,
      "outputs": []
    },
    {
      "cell_type": "code",
      "source": [
        "files.download('/content/Onxx_Model.onnx')"
      ],
      "metadata": {
        "colab": {
          "base_uri": "https://localhost:8080/",
          "height": 17
        },
        "id": "cCfXzuFXSlQZ",
        "outputId": "e5fb467d-9214-4658-842a-0325f74267fa"
      },
      "execution_count": 23,
      "outputs": [
        {
          "output_type": "display_data",
          "data": {
            "text/plain": [
              "<IPython.core.display.Javascript object>"
            ],
            "application/javascript": [
              "\n",
              "    async function download(id, filename, size) {\n",
              "      if (!google.colab.kernel.accessAllowed) {\n",
              "        return;\n",
              "      }\n",
              "      const div = document.createElement('div');\n",
              "      const label = document.createElement('label');\n",
              "      label.textContent = `Downloading \"${filename}\": `;\n",
              "      div.appendChild(label);\n",
              "      const progress = document.createElement('progress');\n",
              "      progress.max = size;\n",
              "      div.appendChild(progress);\n",
              "      document.body.appendChild(div);\n",
              "\n",
              "      const buffers = [];\n",
              "      let downloaded = 0;\n",
              "\n",
              "      const channel = await google.colab.kernel.comms.open(id);\n",
              "      // Send a message to notify the kernel that we're ready.\n",
              "      channel.send({})\n",
              "\n",
              "      for await (const message of channel.messages) {\n",
              "        // Send a message to notify the kernel that we're ready.\n",
              "        channel.send({})\n",
              "        if (message.buffers) {\n",
              "          for (const buffer of message.buffers) {\n",
              "            buffers.push(buffer);\n",
              "            downloaded += buffer.byteLength;\n",
              "            progress.value = downloaded;\n",
              "          }\n",
              "        }\n",
              "      }\n",
              "      const blob = new Blob(buffers, {type: 'application/binary'});\n",
              "      const a = document.createElement('a');\n",
              "      a.href = window.URL.createObjectURL(blob);\n",
              "      a.download = filename;\n",
              "      div.appendChild(a);\n",
              "      a.click();\n",
              "      div.remove();\n",
              "    }\n",
              "  "
            ]
          },
          "metadata": {}
        },
        {
          "output_type": "display_data",
          "data": {
            "text/plain": [
              "<IPython.core.display.Javascript object>"
            ],
            "application/javascript": [
              "download(\"download_475d53b9-986b-4967-8c88-60fd5b60f76a\", \"Onxx_Model.onnx\", 16423301)"
            ]
          },
          "metadata": {}
        }
      ]
    }
  ]
}